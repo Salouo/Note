{
 "cells": [
  {
   "cell_type": "markdown",
   "id": "3ef9242f-035e-4b99-828b-044e18907187",
   "metadata": {},
   "source": [
    "# CondaError: Run ‘conda init‘ before ‘conda activate‘ #"
   ]
  },
  {
   "cell_type": "markdown",
   "id": "d8916588-452a-4745-9da7-22c3d835fc9f",
   "metadata": {},
   "source": [
    "We should use the following command line to load environment configuration again."
   ]
  },
  {
   "cell_type": "markdown",
   "id": "37ca3454-133b-48e1-9f82-ab70f8921919",
   "metadata": {},
   "source": [
    "source ~/.bashrc"
   ]
  }
 ],
 "metadata": {
  "kernelspec": {
   "display_name": "Python 3 (ipykernel)",
   "language": "python",
   "name": "python3"
  },
  "language_info": {
   "codemirror_mode": {
    "name": "ipython",
    "version": 3
   },
   "file_extension": ".py",
   "mimetype": "text/x-python",
   "name": "python",
   "nbconvert_exporter": "python",
   "pygments_lexer": "ipython3",
   "version": "3.12.4"
  }
 },
 "nbformat": 4,
 "nbformat_minor": 5
}
