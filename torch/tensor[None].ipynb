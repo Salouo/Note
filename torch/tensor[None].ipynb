{
 "cells": [
  {
   "cell_type": "code",
   "execution_count": 2,
   "id": "4dc34a4c-3cca-4deb-945f-940944566cee",
   "metadata": {},
   "outputs": [],
   "source": [
    "import torch"
   ]
  },
  {
   "cell_type": "markdown",
   "id": "ad0fbd27-240f-4b5f-9a21-5c953e43c6e1",
   "metadata": {},
   "source": [
    "# Add additional dimensions to tensor"
   ]
  },
  {
   "cell_type": "code",
   "execution_count": 6,
   "id": "3f2ddf76-521c-4f63-9e5c-6d8ecf414d54",
   "metadata": {},
   "outputs": [
    {
     "name": "stdout",
     "output_type": "stream",
     "text": [
      "torch.Size([2, 2])\n"
     ]
    }
   ],
   "source": [
    "a = torch.tensor([[1, 2], [3, 4]])\n",
    "print(a.shape)"
   ]
  },
  {
   "cell_type": "markdown",
   "id": "da03f002-e5da-4dfd-95c4-8132fd303af8",
   "metadata": {},
   "source": [
    "Add a dimension to the 0th dimension"
   ]
  },
  {
   "cell_type": "code",
   "execution_count": 14,
   "id": "535ce24c-067c-497f-b4a4-4a032447c4aa",
   "metadata": {},
   "outputs": [
    {
     "name": "stdout",
     "output_type": "stream",
     "text": [
      "tensor([[[1, 2],\n",
      "         [3, 4]]])\n",
      "torch.Size([1, 2, 2])\n"
     ]
    }
   ],
   "source": [
    "b = a[None]\n",
    "print(b)\n",
    "print(b.shape)"
   ]
  },
  {
   "cell_type": "code",
   "execution_count": null,
   "id": "18868ce3-d76d-42c7-a5b9-c523d93970bf",
   "metadata": {},
   "outputs": [],
   "source": [
    "Add a dimension to the 2nd dimension"
   ]
  },
  {
   "cell_type": "code",
   "execution_count": 24,
   "id": "e9d33228-1734-45be-a894-116c4d5333b0",
   "metadata": {},
   "outputs": [
    {
     "name": "stdout",
     "output_type": "stream",
     "text": [
      "tensor([[[1],\n",
      "         [2]],\n",
      "\n",
      "        [[3],\n",
      "         [4]]])\n",
      "torch.Size([2, 2, 1])\n"
     ]
    }
   ],
   "source": [
    "c = a[:, :, None]\n",
    "print(c)\n",
    "print(c.shape)"
   ]
  }
 ],
 "metadata": {
  "kernelspec": {
   "display_name": "Python (python39)",
   "language": "python",
   "name": "python39"
  },
  "language_info": {
   "codemirror_mode": {
    "name": "ipython",
    "version": 3
   },
   "file_extension": ".py",
   "mimetype": "text/x-python",
   "name": "python",
   "nbconvert_exporter": "python",
   "pygments_lexer": "ipython3",
   "version": "3.9.20"
  }
 },
 "nbformat": 4,
 "nbformat_minor": 5
}
