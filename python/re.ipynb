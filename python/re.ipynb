{
 "cells": [
  {
   "cell_type": "markdown",
   "id": "c077cc6c",
   "metadata": {},
   "source": [
    "（1）普通字符直接匹配。\n",
    "\n",
    "（2）元字符 metacharacters \n",
    "\n",
    "`.` `*` `+` `?` `\\` `[` `]` `^` `$` `{` `}` `|` `(` `)`\n",
    "\n"
   ]
  },
  {
   "cell_type": "markdown",
   "id": "0afc6bf2",
   "metadata": {},
   "source": [
    "## 1."
   ]
  },
  {
   "cell_type": "markdown",
   "id": "781fe5cc",
   "metadata": {},
   "source": [
    "`.`  匹配除了换行符之外的任何`单个`字符。"
   ]
  },
  {
   "cell_type": "code",
   "execution_count": 22,
   "id": "f9eeb455",
   "metadata": {},
   "outputs": [
    {
     "name": "stdout",
     "output_type": "stream",
     "text": [
      "['绿色', '橙色', '黄色', '黑色']\n"
     ]
    }
   ],
   "source": [
    "import re\n",
    "\n",
    "\n",
    "content = \"\"\"\n",
    "苹果是绿色的\n",
    "橙子是橙色的\n",
    "香蕉是黄色的\n",
    "乌鸦是黑色的\n",
    "\"\"\"\n",
    "\n",
    "p = re.compile(r'.色')\n",
    "print(p.findall(content))   # p.findall(content) -> list"
   ]
  },
  {
   "cell_type": "markdown",
   "id": "229190e2",
   "metadata": {},
   "source": [
    "## 2."
   ]
  },
  {
   "cell_type": "markdown",
   "id": "03b1828b",
   "metadata": {},
   "source": [
    "`*` 表示匹配前面的子表达式任意次，包括0次。"
   ]
  },
  {
   "cell_type": "code",
   "execution_count": 21,
   "id": "4612785a",
   "metadata": {},
   "outputs": [
    {
     "name": "stdout",
     "output_type": "stream",
     "text": [
      "[',是绿色的', ',是橙色的', ',是黄色的', ',是黑色的', ',', ',']\n"
     ]
    }
   ],
   "source": [
    "import re\n",
    "\n",
    "\n",
    "content = \"\"\"\n",
    "苹果,是绿色的\n",
    "橙子,是橙色的\n",
    "香蕉,是黄色的\n",
    "乌鸦,是黑色的\n",
    "猴子,\n",
    "天空,\n",
    "\"\"\"\n",
    "\n",
    "p = re.compile(r',.*')\n",
    "print(p.findall(content))"
   ]
  },
  {
   "cell_type": "markdown",
   "id": "a7c6188a",
   "metadata": {},
   "source": [
    "## 3."
   ]
  },
  {
   "cell_type": "markdown",
   "id": "09a3c2ed",
   "metadata": {},
   "source": [
    "`+` 表示匹配前面的子表达式一次或多次，不包括0次。"
   ]
  },
  {
   "cell_type": "code",
   "execution_count": 19,
   "id": "c65855f3",
   "metadata": {},
   "outputs": [
    {
     "name": "stdout",
     "output_type": "stream",
     "text": [
      "[',是绿色的', ',是橙色的', ',是黄色的', ',是黑色的']\n"
     ]
    }
   ],
   "source": [
    "import re\n",
    "\n",
    "\n",
    "content = \"\"\"\n",
    "苹果,是绿色的\n",
    "橙子,是橙色的\n",
    "香蕉,是黄色的\n",
    "乌鸦,是黑色的\n",
    "猴子,\n",
    "天空,\n",
    "\"\"\"\n",
    "\n",
    "p = re.compile(r',.+')\n",
    "print(p.findall(content))"
   ]
  },
  {
   "cell_type": "markdown",
   "id": "5669c6dd",
   "metadata": {},
   "source": [
    "## 4."
   ]
  },
  {
   "cell_type": "markdown",
   "id": "0f341f5a",
   "metadata": {},
   "source": [
    "`{ }` 表示前面的字符匹配`指定的次数`。"
   ]
  },
  {
   "cell_type": "markdown",
   "id": "519748b0",
   "metadata": {},
   "source": [
    "`s{3,4}` 表示匹配连续的 `s` 至少3次，至多4次"
   ]
  },
  {
   "cell_type": "code",
   "execution_count": 20,
   "id": "4ac46aaa",
   "metadata": {},
   "outputs": [
    {
     "name": "stdout",
     "output_type": "stream",
     "text": [
      "['sss', 'ssss']\n"
     ]
    }
   ],
   "source": [
    "import re\n",
    "\n",
    "\n",
    "content = \"\"\"\n",
    "dss, dsss, dssss,\n",
    "ds,\n",
    "\"\"\"\n",
    "\n",
    "p = re.compile(r's{3,4}')\n",
    "print(p.findall(content))"
   ]
  },
  {
   "cell_type": "markdown",
   "id": "e173b156",
   "metadata": {},
   "source": [
    "`s{4}` 表示匹配连续的 `s` 4次; `\\d` 表示数字"
   ]
  },
  {
   "cell_type": "code",
   "execution_count": 22,
   "id": "d0208197",
   "metadata": {},
   "outputs": [
    {
     "name": "stdout",
     "output_type": "stream",
     "text": [
      "['13500344799', '15900785634', '13909756432']\n"
     ]
    }
   ],
   "source": [
    "import re\n",
    "\n",
    "\n",
    "content = \"\"\"\n",
    "Ben, 13500344799, 0\n",
    "Mary, 15900785634, 1\n",
    "Ken, 13909756432, 1\n",
    "Ray, 123334, 0\n",
    "\"\"\"\n",
    "\n",
    "p = re.compile(r'\\d{11}')\n",
    "print(p.findall(content))"
   ]
  },
  {
   "cell_type": "markdown",
   "id": "8c5df85c",
   "metadata": {},
   "source": [
    "## 5. 贪婪模式与非贪婪模式"
   ]
  },
  {
   "cell_type": "markdown",
   "id": "20e371b5",
   "metadata": {},
   "source": [
    "加了 `?` 就是尽可能少，不加 `?` 就是尽可能多"
   ]
  },
  {
   "cell_type": "code",
   "execution_count": null,
   "id": "1d9bd24f",
   "metadata": {},
   "outputs": [
    {
     "name": "stdout",
     "output_type": "stream",
     "text": [
      "['<html><head><title>Title</title>']\n"
     ]
    }
   ],
   "source": [
    "import re\n",
    "\n",
    "\n",
    "source = \"<html><head><title>Title</title>\"\n",
    "\n",
    "p = re.compile(r'<.*>') # 贪婪模式\n",
    "print(p.findall(source))\n",
    "\n",
    "p = re.compile(r'.*?')  # 非贪婪模式"
   ]
  },
  {
   "cell_type": "markdown",
   "id": "f6894d15",
   "metadata": {},
   "source": [
    "## 6. 对元字符的转义"
   ]
  },
  {
   "cell_type": "markdown",
   "id": "c04d6037",
   "metadata": {},
   "source": [
    "使用 `\\` 可以将元字符转义"
   ]
  },
  {
   "cell_type": "code",
   "execution_count": 3,
   "id": "ed95da7d",
   "metadata": {},
   "outputs": [
    {
     "name": "stdout",
     "output_type": "stream",
     "text": [
      "['苹果.', '橙子.', '香蕉.']\n"
     ]
    }
   ],
   "source": [
    "import re\n",
    "\n",
    "\n",
    "content = \"\"\"\n",
    "苹果.是绿色的\n",
    "橙子.是橙色的\n",
    "香蕉.是黄色的\n",
    "\"\"\"\n",
    "\n",
    "p = re.compile(r'.*\\.')\n",
    "print(p.findall(content))"
   ]
  },
  {
   "cell_type": "markdown",
   "id": "fa7e0fe5",
   "metadata": {},
   "source": [
    "## 7.匹配某种字符类型"
   ]
  },
  {
   "cell_type": "markdown",
   "id": "359b4d82",
   "metadata": {},
   "source": [
    "反斜杠后面接一些字符，表示匹配 `某种类型` 的一个字符。\n",
    "\n",
    "如：\n",
    "\n",
    "`\\d` 匹配0-9之间任意一个数字字符，等价于表达式 [0-9].  \n",
    "`\\D` 匹配任意一个非0-9数字的字符，等价于表达式 [^0-9].  \n",
    "`\\s` 匹配任意一个空白字符，包括 空格、tab、换行符等，等价于表达式 [\\t\\n\\r\\f\\v].  \n",
    "`\\S` 匹配任意一个非空白字符，等价于表达式 [^ \\t\\n\\r\\f\\v].  \n",
    "`\\w` 匹配任意一个文字字符，包括大小写字母、数字、下划线，等价于表达式 [a-zA-Z0-9_].  \n",
    "`\\W` 匹配任意一个非文字字符，等价于表达式 [^a-zA-Z0-9_].  "
   ]
  },
  {
   "cell_type": "code",
   "execution_count": null,
   "id": "a4c553fa",
   "metadata": {},
   "outputs": [
    {
     "name": "stdout",
     "output_type": "stream",
     "text": [
      "['tony']\n"
     ]
    }
   ],
   "source": [
    "import re\n",
    "\n",
    "\n",
    "content = \"\"\"\n",
    "王亚辉\n",
    "tony\n",
    "刘文武\n",
    "\"\"\"\n",
    "\n",
    "p = re.compile(r'\\w{2,4}', re.A)    # Only match alphabets\n",
    "print(p.findall(content))"
   ]
  },
  {
   "cell_type": "markdown",
   "id": "0bbfce44",
   "metadata": {},
   "source": [
    "## 8. 方括号"
   ]
  },
  {
   "cell_type": "markdown",
   "id": "9ae30eab",
   "metadata": {},
   "source": [
    "方括号表示要匹配指定的几个字符之一。  \n",
    "\n",
    "`[abc]` 可以匹配 a, b, 或者 c 里面的任意一个字符。等价于 `[a-c]` 。\n",
    "\n",
    "`[a-c]` 中间的 - 表示一个范围从a 到 c。\n",
    "\n",
    "\n",
    "如果你想匹配所有的小写字母，可以使用 `[a-z]`  \n",
    "\n",
    "\n",
    "一些 元字符 在 方括号内 失去了魔法， 变得和普通字符一样了。\n",
    "\n",
    "比如\n",
    "\n",
    "\n",
    "`[akm.]` 匹配 a k m . 里面任意一个字符\n",
    "\n",
    "这里 `.` 在括号里面不在表示 匹配任意字符了，而就是表示匹配 `.` 这个 字符\n"
   ]
  },
  {
   "cell_type": "code",
   "execution_count": 19,
   "id": "794189e6",
   "metadata": {},
   "outputs": [
    {
     "name": "stdout",
     "output_type": "stream",
     "text": [
      "['12358439534', '12048170471']\n"
     ]
    }
   ],
   "source": [
    "import re\n",
    "\n",
    "\n",
    "content = \"\"\"\n",
    "王亚辉, 12358439534, 90\n",
    "徐志摩, 12048170471, 22\n",
    "周根源, 12423448142, 44\n",
    "\"\"\" \n",
    "\n",
    "p = re.compile(r'12[350]\\d{8}')\n",
    "print(p.findall(content))"
   ]
  },
  {
   "cell_type": "markdown",
   "id": "d9ddd836",
   "metadata": {},
   "source": [
    "如果在方括号中使用 `^` ， 表示 `非` 方括号里面的字符集合。"
   ]
  },
  {
   "cell_type": "code",
   "execution_count": 23,
   "id": "62c585f3",
   "metadata": {},
   "outputs": [
    {
     "name": "stdout",
     "output_type": "stream",
     "text": [
      "['a', 'b', 'c', 'd', 'e']\n"
     ]
    }
   ],
   "source": [
    "import re\n",
    "\n",
    "\n",
    "content = \"a1b2c3d4e5\"\n",
    "\n",
    "p = re.compile(r'[^\\d]')\n",
    "print(p.findall(content))"
   ]
  },
  {
   "cell_type": "markdown",
   "id": "24f364e7",
   "metadata": {},
   "source": [
    "## 9."
   ]
  },
  {
   "cell_type": "markdown",
   "id": "ce0be23e",
   "metadata": {},
   "source": [
    "`^` 表示匹配文本的 `开头` 位置\n",
    "\n",
    "正则表达式可以设定 `单行模式` 和 `多行模式` 。\n",
    "\n",
    "如果是 `单行模式` ， 表示匹配整个文本的开头位置  \n",
    "如果是 `多行模式` ， 表示匹配文本每行的开头位置"
   ]
  },
  {
   "cell_type": "code",
   "execution_count": 47,
   "id": "fb8b4f67",
   "metadata": {},
   "outputs": [
    {
     "name": "stdout",
     "output_type": "stream",
     "text": [
      "['001', '60', '002', '70', '003', '80']\n",
      "['001']\n",
      "['001', '002', '003']\n"
     ]
    }
   ],
   "source": [
    "import re\n",
    "\n",
    "\n",
    "content = \"\"\"001-苹果价格-60\n",
    "002-橙子价格-70\n",
    "003-香蕉价格-80\n",
    "\"\"\"\n",
    "\n",
    "pattern = r'\\d+'\n",
    "p = re.compile(pattern)\n",
    "print(p.findall(content))\n",
    "\n",
    "# dotall mode\n",
    "pattern = r'^\\d+'\n",
    "p = re.compile(pattern)\n",
    "print(p.findall(content))\n",
    "\n",
    "# multiline mode -> re.M\n",
    "pattern = r'^\\d+'\n",
    "p = re.compile(pattern, re.M)\n",
    "print(p.findall(content))"
   ]
  },
  {
   "cell_type": "markdown",
   "id": "09109c8a",
   "metadata": {},
   "source": [
    "`$` 表示匹配文本的结束位置\n",
    "\n",
    "正则表达式可以设定 `单行模式` 和 `多行模式` 。\n",
    "\n",
    "如果是 `单行模式` ， 表示匹配整个文本的开头位置  \n",
    "如果是 `多行模式` ， 表示匹配文本每行的开头位置"
   ]
  },
  {
   "cell_type": "code",
   "execution_count": 45,
   "id": "568b6975",
   "metadata": {},
   "outputs": [
    {
     "name": "stdout",
     "output_type": "stream",
     "text": [
      "['001', '60', '002', '70', '003', '80']\n",
      "['80']\n",
      "['60', '70', '80']\n"
     ]
    }
   ],
   "source": [
    "import re\n",
    "\n",
    "\n",
    "content = \"\"\"\n",
    "001-苹果价格-60\n",
    "002-橙子价格-70\n",
    "003-香蕉价格-80\n",
    "\"\"\"\n",
    "\n",
    "pattern = r'\\d+'\n",
    "p = re.compile(pattern)\n",
    "print(p.findall(content))\n",
    "\n",
    "# dotall mode\n",
    "pattern = r'\\d+$'\n",
    "p = re.compile(pattern)\n",
    "print(p.findall(content))\n",
    "\n",
    "# multiline mode -> re.M\n",
    "pattern = r'\\d+$'\n",
    "p = re.compile(pattern, re.M)\n",
    "print(p.findall(content))"
   ]
  },
  {
   "cell_type": "markdown",
   "id": "2bfea82f",
   "metadata": {},
   "source": [
    "## 10.括号-组选择"
   ]
  },
  {
   "cell_type": "markdown",
   "id": "39498d5f",
   "metadata": {},
   "source": []
  },
  {
   "cell_type": "code",
   "execution_count": 53,
   "id": "9f60e2cf",
   "metadata": {},
   "outputs": [
    {
     "name": "stdout",
     "output_type": "stream",
     "text": [
      "['苹果,', '橙子,', '香蕉,', '乌鸦,', '猴子,', '天空,']\n",
      "['苹果', '橙子', '香蕉', '乌鸦']\n",
      "[('苹果', '是'), ('橙子', '是'), ('香蕉', '是'), ('乌鸦', '是')]\n"
     ]
    }
   ],
   "source": [
    "import re\n",
    "\n",
    "\n",
    "content = \"\"\"\n",
    "苹果,是绿色的\n",
    "橙子,是橙色的\n",
    "香蕉,是黄色的\n",
    "乌鸦,是黑色的\n",
    "猴子,\n",
    "天空,\n",
    "\"\"\"\n",
    "\n",
    "pattern = r'.*,'\n",
    "p = re.compile(pattern, re.M)\n",
    "print(p.findall(content))\n",
    "\n",
    "# We do not need the comma.\n",
    "pattern = r'(.*),.'\n",
    "p = re.compile(pattern, re.M)\n",
    "print(p.findall(content))\n",
    "\n",
    "# We can have several groups.\n",
    "pattern = r'(.*),(.)'\n",
    "p = re.compile(pattern, re.M)\n",
    "print(p.findall(content))"
   ]
  },
  {
   "cell_type": "code",
   "execution_count": null,
   "id": "a78086f2",
   "metadata": {},
   "outputs": [
    {
     "name": "stdout",
     "output_type": "stream",
     "text": [
      "[('张三', '15945678901'), ('李四', '13945677701'), ('王二', '13845666901')]\n"
     ]
    }
   ],
   "source": [
    "import re\n",
    "\n",
    "\n",
    "content = \"\"\"\n",
    "张三, 手机号码15945678901\n",
    "李四, 手机号码13945677701\n",
    "王二, 手机号码13845666901\n",
    "\"\"\"\n",
    "\n",
    "pattern = r'^(.*),.*(\\d{11}$)'\n",
    "p = re.compile(pattern, re.M)\n",
    "print(p.findall(content))\n"
   ]
  },
  {
   "cell_type": "markdown",
   "id": "d1e485c5",
   "metadata": {},
   "source": [
    "## 11. 提取工资具体数字"
   ]
  },
  {
   "cell_type": "code",
   "execution_count": null,
   "id": "241d6271",
   "metadata": {},
   "outputs": [
    {
     "name": "stdout",
     "output_type": "stream",
     "text": [
      "['2', '2.5', '1.3', '1.1']\n"
     ]
    }
   ],
   "source": [
    "import re\n",
    "\n",
    "\n",
    "content = \"\"\"\n",
    "Python3 高级开发工程师 上海互教教育科技有限公司上海-浦东新区2万/月02-18满员\n",
    "测试开发工程师(C++/python) 上海墨鹍数码科技有限公司上海-浦东新区2.5万/每月02-18未满员\n",
    "Python3 开发工程师 上海德拓信息技术股份有限公司上海-徐汇区1.3万/每月02-18剩余11人\n",
    "测试开发工程师(Python) 赫里普(上海)信息科技有限公司上海-浦东新区1.1万/每月02-18剩余5人\n",
    "\"\"\"\n",
    "\n",
    "pattern = r'([\\d.]+)万/每?月'   # 月? <-> 月{0,1}\n",
    "p = re.compile(pattern)\n",
    "print(p.findall(content))"
   ]
  },
  {
   "cell_type": "markdown",
   "id": "91554b92",
   "metadata": {},
   "source": [
    "## 12. re.split()"
   ]
  },
  {
   "cell_type": "markdown",
   "id": "088f444e",
   "metadata": {},
   "source": [
    "We can use `re.split()` to split a string just like `string.split()`"
   ]
  },
  {
   "cell_type": "code",
   "execution_count": 65,
   "id": "b0971765",
   "metadata": {},
   "outputs": [
    {
     "name": "stdout",
     "output_type": "stream",
     "text": [
      "['Ben', 'Mary', 'Karry', 'Wax', 'Andy', 'Candy']\n"
     ]
    }
   ],
   "source": [
    "import re\n",
    "\n",
    "\n",
    "names = \"Ben; Mary, Karry,Wax\\tAndy. Candy\"\n",
    "\n",
    "namelist = re.split(r'[;,.\\s]\\s*', names)\n",
    "print(namelist)"
   ]
  },
  {
   "cell_type": "markdown",
   "id": "c8f6ebaf",
   "metadata": {},
   "source": [
    "## 13.re.sub()"
   ]
  },
  {
   "cell_type": "markdown",
   "id": "e713f9c6",
   "metadata": {},
   "source": [
    "`string.replace()` 只适应于简单的替换，有时我们需要更加灵活的字符串替换。\n",
    "\n",
    "我们需要在下面这段文本中所有的链接中 找到所以 `/avxxxxxx/` 这种 以 `/av` 开头，后面接一串数字， 这种模式的字符串。\n",
    "\n",
    "然后，这些字符串全部 替换为 /cn345677/ 。"
   ]
  },
  {
   "cell_type": "code",
   "execution_count": 66,
   "id": "2424b5fc",
   "metadata": {},
   "outputs": [
    {
     "name": "stdout",
     "output_type": "stream",
     "text": [
      "\n",
      "下面是这学期要学习的课程：\n",
      "\n",
      "<a href='https://www.bilibili.com/video/cn345677/?p=1' target='_blank'>点击这里，边看视频讲解，边学习以下内容</a>\n",
      "这节讲的是牛顿第2运动定律\n",
      "\n",
      "<a href='https://www.bilibili.com/video/cn345677/?p=125' target='_blank'>点击这里，边看视频讲解，边学习以下内容</a>\n",
      "这节讲的是毕达哥拉斯公式\n",
      "\n",
      "<a href='https://www.bilibili.com/video/cn345677/?p=33' target='_blank'>点击这里，边看视频讲解，边学习以下内容</a>\n",
      "这节讲的是切割磁力线\n",
      "\n"
     ]
    }
   ],
   "source": [
    "import re\n",
    "\n",
    "content = '''\n",
    "下面是这学期要学习的课程：\n",
    "\n",
    "<a href='https://www.bilibili.com/video/av66771949/?p=1' target='_blank'>点击这里，边看视频讲解，边学习以下内容</a>\n",
    "这节讲的是牛顿第2运动定律\n",
    "\n",
    "<a href='https://www.bilibili.com/video/av46349552/?p=125' target='_blank'>点击这里，边看视频讲解，边学习以下内容</a>\n",
    "这节讲的是毕达哥拉斯公式\n",
    "\n",
    "<a href='https://www.bilibili.com/video/av90571967/?p=33' target='_blank'>点击这里，边看视频讲解，边学习以下内容</a>\n",
    "这节讲的是切割磁力线\n",
    "'''\n",
    "\n",
    "\n",
    "new_str = re.sub(r'/av\\d+/', \"/cn345677/\", content)\n",
    "print(new_str)"
   ]
  }
 ],
 "metadata": {
  "kernelspec": {
   "display_name": "considerate-robot",
   "language": "python",
   "name": "python3"
  },
  "language_info": {
   "codemirror_mode": {
    "name": "ipython",
    "version": 3
   },
   "file_extension": ".py",
   "mimetype": "text/x-python",
   "name": "python",
   "nbconvert_exporter": "python",
   "pygments_lexer": "ipython3",
   "version": "3.9.21"
  }
 },
 "nbformat": 4,
 "nbformat_minor": 5
}
