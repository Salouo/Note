{
 "cells": [
  {
   "cell_type": "markdown",
   "id": "6bb717d4-9522-48d6-9813-ce2cbc7fdcdf",
   "metadata": {},
   "source": [
    "# sys.argv\n",
    "\n",
    "**sys** is one of Python's standard library modules, used for accessing variables and functions related to the Python interpreter.\n",
    "\n",
    "**sys.argv** is a list in **sys**, specifically designed to retrieve command-line arguments."
   ]
  },
  {
   "cell_type": "markdown",
   "id": "28550e04-85cc-486c-bc1e-0d0cac01615a",
   "metadata": {},
   "source": [
    "Assume that we have a script called \"test.py\", and the content is shown as below."
   ]
  },
  {
   "cell_type": "code",
   "execution_count": null,
   "id": "84e9a88b-8db7-49f3-a0b9-c9649697b2de",
   "metadata": {},
   "outputs": [
    {
     "name": "stdout",
     "output_type": "stream",
     "text": [
      "All arguments: ['/opt/anaconda3/envs/python38/lib/python3.8/site-packages/ipykernel_launcher.py', '--f=/Users/cheesberry/Library/Jupyter/runtime/kernel-v36f3c1c602c8307af0194006798a59a950da51d1d.json']\n",
      "Script name: /opt/anaconda3/envs/python38/lib/python3.8/site-packages/ipykernel_launcher.py\n",
      "First argument: --f=/Users/cheesberry/Library/Jupyter/runtime/kernel-v36f3c1c602c8307af0194006798a59a950da51d1d.json\n",
      "No additional arguments provided.\n"
     ]
    }
   ],
   "source": [
    "# test.py\n",
    "import sys\n",
    "\n",
    "# Print all the command-line arguments\n",
    "print(\"All arguments:\", sys.argv)\n",
    "\n",
    "# Print the name of script(or .py file). The first element in sys.argv is the name of script.\n",
    "print(\"Script name:\", sys.argv[0])\n",
    "\n",
    "# print the first argument of the command\n",
    "if len(sys.argv) > 1:\n",
    "    print(\"First argument:\", sys.argv[1])\n",
    "if len(sys.argv) > 2:\n",
    "    print(\"Second argument:\", sys.argv[2])\n",
    "else:\n",
    "    print(\"No additional arguments provided.\")"
   ]
  },
  {
   "cell_type": "markdown",
   "id": "24338545-9b3e-44ee-a3ad-26e6ab377b7a",
   "metadata": {},
   "source": [
    "We now run a command like this:"
   ]
  },
  {
   "cell_type": "raw",
   "id": "229db177-9730-47be-b60f-b002f5601dd1",
   "metadata": {},
   "source": [
    "python test.py ../fragment.ply hello"
   ]
  },
  {
   "cell_type": "code",
   "execution_count": null,
   "id": "4d3a8151-2c7b-4127-9295-eed22a0bd296",
   "metadata": {},
   "outputs": [],
   "source": [
    "All arguments: ['test.py', '../fragment.ply', 'hello'] # Here '../fragment.ply' is a relative path\n",
    "Script name: test.py\n",
    "First argument: ../fragment.ply"
   ]
  }
 ],
 "metadata": {
  "kernelspec": {
   "display_name": "python38",
   "language": "python",
   "name": "python3"
  },
  "language_info": {
   "codemirror_mode": {
    "name": "ipython",
    "version": 3
   },
   "file_extension": ".py",
   "mimetype": "text/x-python",
   "name": "python",
   "nbconvert_exporter": "python",
   "pygments_lexer": "ipython3",
   "version": "3.8.20"
  }
 },
 "nbformat": 4,
 "nbformat_minor": 5
}
